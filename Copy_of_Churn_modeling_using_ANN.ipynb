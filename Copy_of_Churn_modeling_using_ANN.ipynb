{
  "cells": [
    {
      "cell_type": "markdown",
      "metadata": {
        "id": "view-in-github",
        "colab_type": "text"
      },
      "source": [
        "<a href=\"https://colab.research.google.com/github/atehsaei/Machine-Learning/blob/main/Copy_of_Churn_modeling_using_ANN.ipynb\" target=\"_parent\"><img src=\"https://colab.research.google.com/assets/colab-badge.svg\" alt=\"Open In Colab\"/></a>"
      ]
    },
    {
      "cell_type": "code",
      "source": [
        "from google.colab import drive\n",
        "drive.mount('/content/drive')"
      ],
      "metadata": {
        "colab": {
          "base_uri": "https://localhost:8080/"
        },
        "id": "v4Xvyhf32H-q",
        "outputId": "b38b0d73-9dd7-4bea-8ca8-3e8b15e2f263"
      },
      "id": "v4Xvyhf32H-q",
      "execution_count": null,
      "outputs": [
        {
          "output_type": "stream",
          "name": "stdout",
          "text": [
            "Mounted at /content/drive\n"
          ]
        }
      ]
    },
    {
      "cell_type": "code",
      "execution_count": null,
      "id": "3435f58d",
      "metadata": {
        "id": "3435f58d"
      },
      "outputs": [],
      "source": [
        "import pandas as pd\n",
        "import numpy as np\n",
        "import seaborn as sns\n",
        "import matplotlib.pyplot as plt\n",
        "%matplotlib inline\n",
        "import warnings\n",
        "warnings.filterwarnings('ignore')"
      ]
    },
    {
      "cell_type": "code",
      "execution_count": null,
      "id": "7289f391",
      "metadata": {
        "id": "7289f391"
      },
      "outputs": [],
      "source": [
        "df=pd.read_csv('/content/drive/MyDrive/df for data science/churn.csv')"
      ]
    },
    {
      "cell_type": "code",
      "execution_count": null,
      "id": "802c0962",
      "metadata": {
        "id": "802c0962",
        "colab": {
          "base_uri": "https://localhost:8080/",
          "height": 357
        },
        "outputId": "e435448f-4d3b-497c-afcc-3ebf25f95a51"
      },
      "outputs": [
        {
          "output_type": "execute_result",
          "data": {
            "text/html": [
              "\n",
              "  <div id=\"df-257fc889-83c2-4cb7-84ae-30b60e5474f5\">\n",
              "    <div class=\"colab-df-container\">\n",
              "      <div>\n",
              "<style scoped>\n",
              "    .dataframe tbody tr th:only-of-type {\n",
              "        vertical-align: middle;\n",
              "    }\n",
              "\n",
              "    .dataframe tbody tr th {\n",
              "        vertical-align: top;\n",
              "    }\n",
              "\n",
              "    .dataframe thead th {\n",
              "        text-align: right;\n",
              "    }\n",
              "</style>\n",
              "<table border=\"1\" class=\"dataframe\">\n",
              "  <thead>\n",
              "    <tr style=\"text-align: right;\">\n",
              "      <th></th>\n",
              "      <th>customerID</th>\n",
              "      <th>gender</th>\n",
              "      <th>SeniorCitizen</th>\n",
              "      <th>Partner</th>\n",
              "      <th>Dependents</th>\n",
              "      <th>tenure</th>\n",
              "      <th>PhoneService</th>\n",
              "      <th>MultipleLines</th>\n",
              "      <th>InternetService</th>\n",
              "      <th>OnlineSecurity</th>\n",
              "      <th>OnlineBackup</th>\n",
              "      <th>DeviceProtection</th>\n",
              "      <th>TechSupport</th>\n",
              "      <th>StreamingTV</th>\n",
              "      <th>StreamingMovies</th>\n",
              "      <th>Contract</th>\n",
              "      <th>PaperlessBilling</th>\n",
              "      <th>PaymentMethod</th>\n",
              "      <th>MonthlyCharges</th>\n",
              "      <th>TotalCharges</th>\n",
              "      <th>Churn</th>\n",
              "    </tr>\n",
              "  </thead>\n",
              "  <tbody>\n",
              "    <tr>\n",
              "      <th>0</th>\n",
              "      <td>7590-VHVEG</td>\n",
              "      <td>Female</td>\n",
              "      <td>0</td>\n",
              "      <td>Yes</td>\n",
              "      <td>No</td>\n",
              "      <td>1</td>\n",
              "      <td>No</td>\n",
              "      <td>No phone service</td>\n",
              "      <td>DSL</td>\n",
              "      <td>No</td>\n",
              "      <td>Yes</td>\n",
              "      <td>No</td>\n",
              "      <td>No</td>\n",
              "      <td>No</td>\n",
              "      <td>No</td>\n",
              "      <td>Month-to-month</td>\n",
              "      <td>Yes</td>\n",
              "      <td>Electronic check</td>\n",
              "      <td>29.85</td>\n",
              "      <td>29.85</td>\n",
              "      <td>No</td>\n",
              "    </tr>\n",
              "    <tr>\n",
              "      <th>1</th>\n",
              "      <td>5575-GNVDE</td>\n",
              "      <td>Male</td>\n",
              "      <td>0</td>\n",
              "      <td>No</td>\n",
              "      <td>No</td>\n",
              "      <td>34</td>\n",
              "      <td>Yes</td>\n",
              "      <td>No</td>\n",
              "      <td>DSL</td>\n",
              "      <td>Yes</td>\n",
              "      <td>No</td>\n",
              "      <td>Yes</td>\n",
              "      <td>No</td>\n",
              "      <td>No</td>\n",
              "      <td>No</td>\n",
              "      <td>One year</td>\n",
              "      <td>No</td>\n",
              "      <td>Mailed check</td>\n",
              "      <td>56.95</td>\n",
              "      <td>1889.5</td>\n",
              "      <td>No</td>\n",
              "    </tr>\n",
              "    <tr>\n",
              "      <th>2</th>\n",
              "      <td>3668-QPYBK</td>\n",
              "      <td>Male</td>\n",
              "      <td>0</td>\n",
              "      <td>No</td>\n",
              "      <td>No</td>\n",
              "      <td>2</td>\n",
              "      <td>Yes</td>\n",
              "      <td>No</td>\n",
              "      <td>DSL</td>\n",
              "      <td>Yes</td>\n",
              "      <td>Yes</td>\n",
              "      <td>No</td>\n",
              "      <td>No</td>\n",
              "      <td>No</td>\n",
              "      <td>No</td>\n",
              "      <td>Month-to-month</td>\n",
              "      <td>Yes</td>\n",
              "      <td>Mailed check</td>\n",
              "      <td>53.85</td>\n",
              "      <td>108.15</td>\n",
              "      <td>Yes</td>\n",
              "    </tr>\n",
              "    <tr>\n",
              "      <th>3</th>\n",
              "      <td>7795-CFOCW</td>\n",
              "      <td>Male</td>\n",
              "      <td>0</td>\n",
              "      <td>No</td>\n",
              "      <td>No</td>\n",
              "      <td>45</td>\n",
              "      <td>No</td>\n",
              "      <td>No phone service</td>\n",
              "      <td>DSL</td>\n",
              "      <td>Yes</td>\n",
              "      <td>No</td>\n",
              "      <td>Yes</td>\n",
              "      <td>Yes</td>\n",
              "      <td>No</td>\n",
              "      <td>No</td>\n",
              "      <td>One year</td>\n",
              "      <td>No</td>\n",
              "      <td>Bank transfer (automatic)</td>\n",
              "      <td>42.30</td>\n",
              "      <td>1840.75</td>\n",
              "      <td>No</td>\n",
              "    </tr>\n",
              "    <tr>\n",
              "      <th>4</th>\n",
              "      <td>9237-HQITU</td>\n",
              "      <td>Female</td>\n",
              "      <td>0</td>\n",
              "      <td>No</td>\n",
              "      <td>No</td>\n",
              "      <td>2</td>\n",
              "      <td>Yes</td>\n",
              "      <td>No</td>\n",
              "      <td>Fiber optic</td>\n",
              "      <td>No</td>\n",
              "      <td>No</td>\n",
              "      <td>No</td>\n",
              "      <td>No</td>\n",
              "      <td>No</td>\n",
              "      <td>No</td>\n",
              "      <td>Month-to-month</td>\n",
              "      <td>Yes</td>\n",
              "      <td>Electronic check</td>\n",
              "      <td>70.70</td>\n",
              "      <td>151.65</td>\n",
              "      <td>Yes</td>\n",
              "    </tr>\n",
              "  </tbody>\n",
              "</table>\n",
              "</div>\n",
              "      <button class=\"colab-df-convert\" onclick=\"convertToInteractive('df-257fc889-83c2-4cb7-84ae-30b60e5474f5')\"\n",
              "              title=\"Convert this dataframe to an interactive table.\"\n",
              "              style=\"display:none;\">\n",
              "        \n",
              "  <svg xmlns=\"http://www.w3.org/2000/svg\" height=\"24px\"viewBox=\"0 0 24 24\"\n",
              "       width=\"24px\">\n",
              "    <path d=\"M0 0h24v24H0V0z\" fill=\"none\"/>\n",
              "    <path d=\"M18.56 5.44l.94 2.06.94-2.06 2.06-.94-2.06-.94-.94-2.06-.94 2.06-2.06.94zm-11 1L8.5 8.5l.94-2.06 2.06-.94-2.06-.94L8.5 2.5l-.94 2.06-2.06.94zm10 10l.94 2.06.94-2.06 2.06-.94-2.06-.94-.94-2.06-.94 2.06-2.06.94z\"/><path d=\"M17.41 7.96l-1.37-1.37c-.4-.4-.92-.59-1.43-.59-.52 0-1.04.2-1.43.59L10.3 9.45l-7.72 7.72c-.78.78-.78 2.05 0 2.83L4 21.41c.39.39.9.59 1.41.59.51 0 1.02-.2 1.41-.59l7.78-7.78 2.81-2.81c.8-.78.8-2.07 0-2.86zM5.41 20L4 18.59l7.72-7.72 1.47 1.35L5.41 20z\"/>\n",
              "  </svg>\n",
              "      </button>\n",
              "      \n",
              "  <style>\n",
              "    .colab-df-container {\n",
              "      display:flex;\n",
              "      flex-wrap:wrap;\n",
              "      gap: 12px;\n",
              "    }\n",
              "\n",
              "    .colab-df-convert {\n",
              "      background-color: #E8F0FE;\n",
              "      border: none;\n",
              "      border-radius: 50%;\n",
              "      cursor: pointer;\n",
              "      display: none;\n",
              "      fill: #1967D2;\n",
              "      height: 32px;\n",
              "      padding: 0 0 0 0;\n",
              "      width: 32px;\n",
              "    }\n",
              "\n",
              "    .colab-df-convert:hover {\n",
              "      background-color: #E2EBFA;\n",
              "      box-shadow: 0px 1px 2px rgba(60, 64, 67, 0.3), 0px 1px 3px 1px rgba(60, 64, 67, 0.15);\n",
              "      fill: #174EA6;\n",
              "    }\n",
              "\n",
              "    [theme=dark] .colab-df-convert {\n",
              "      background-color: #3B4455;\n",
              "      fill: #D2E3FC;\n",
              "    }\n",
              "\n",
              "    [theme=dark] .colab-df-convert:hover {\n",
              "      background-color: #434B5C;\n",
              "      box-shadow: 0px 1px 3px 1px rgba(0, 0, 0, 0.15);\n",
              "      filter: drop-shadow(0px 1px 2px rgba(0, 0, 0, 0.3));\n",
              "      fill: #FFFFFF;\n",
              "    }\n",
              "  </style>\n",
              "\n",
              "      <script>\n",
              "        const buttonEl =\n",
              "          document.querySelector('#df-257fc889-83c2-4cb7-84ae-30b60e5474f5 button.colab-df-convert');\n",
              "        buttonEl.style.display =\n",
              "          google.colab.kernel.accessAllowed ? 'block' : 'none';\n",
              "\n",
              "        async function convertToInteractive(key) {\n",
              "          const element = document.querySelector('#df-257fc889-83c2-4cb7-84ae-30b60e5474f5');\n",
              "          const dataTable =\n",
              "            await google.colab.kernel.invokeFunction('convertToInteractive',\n",
              "                                                     [key], {});\n",
              "          if (!dataTable) return;\n",
              "\n",
              "          const docLinkHtml = 'Like what you see? Visit the ' +\n",
              "            '<a target=\"_blank\" href=https://colab.research.google.com/notebooks/data_table.ipynb>data table notebook</a>'\n",
              "            + ' to learn more about interactive tables.';\n",
              "          element.innerHTML = '';\n",
              "          dataTable['output_type'] = 'display_data';\n",
              "          await google.colab.output.renderOutput(dataTable, element);\n",
              "          const docLink = document.createElement('div');\n",
              "          docLink.innerHTML = docLinkHtml;\n",
              "          element.appendChild(docLink);\n",
              "        }\n",
              "      </script>\n",
              "    </div>\n",
              "  </div>\n",
              "  "
            ],
            "text/plain": [
              "   customerID  gender  SeniorCitizen  ... MonthlyCharges TotalCharges  Churn\n",
              "0  7590-VHVEG  Female              0  ...          29.85        29.85     No\n",
              "1  5575-GNVDE    Male              0  ...          56.95       1889.5     No\n",
              "2  3668-QPYBK    Male              0  ...          53.85       108.15    Yes\n",
              "3  7795-CFOCW    Male              0  ...          42.30      1840.75     No\n",
              "4  9237-HQITU  Female              0  ...          70.70       151.65    Yes\n",
              "\n",
              "[5 rows x 21 columns]"
            ]
          },
          "metadata": {},
          "execution_count": 11
        }
      ],
      "source": [
        "df.head()"
      ]
    },
    {
      "cell_type": "code",
      "execution_count": null,
      "id": "8ef74932",
      "metadata": {
        "id": "8ef74932",
        "outputId": "87654ed9-8af0-4f15-909b-07b99f0fcf81",
        "colab": {
          "base_uri": "https://localhost:8080/"
        }
      },
      "outputs": [
        {
          "output_type": "stream",
          "name": "stdout",
          "text": [
            "<class 'pandas.core.frame.DataFrame'>\n",
            "RangeIndex: 7043 entries, 0 to 7042\n",
            "Data columns (total 21 columns):\n",
            " #   Column            Non-Null Count  Dtype  \n",
            "---  ------            --------------  -----  \n",
            " 0   customerID        7043 non-null   object \n",
            " 1   gender            7043 non-null   object \n",
            " 2   SeniorCitizen     7043 non-null   int64  \n",
            " 3   Partner           7043 non-null   object \n",
            " 4   Dependents        7043 non-null   object \n",
            " 5   tenure            7043 non-null   int64  \n",
            " 6   PhoneService      7043 non-null   object \n",
            " 7   MultipleLines     7043 non-null   object \n",
            " 8   InternetService   7043 non-null   object \n",
            " 9   OnlineSecurity    7043 non-null   object \n",
            " 10  OnlineBackup      7043 non-null   object \n",
            " 11  DeviceProtection  7043 non-null   object \n",
            " 12  TechSupport       7043 non-null   object \n",
            " 13  StreamingTV       7043 non-null   object \n",
            " 14  StreamingMovies   7043 non-null   object \n",
            " 15  Contract          7043 non-null   object \n",
            " 16  PaperlessBilling  7043 non-null   object \n",
            " 17  PaymentMethod     7043 non-null   object \n",
            " 18  MonthlyCharges    7043 non-null   float64\n",
            " 19  TotalCharges      7043 non-null   object \n",
            " 20  Churn             7043 non-null   object \n",
            "dtypes: float64(1), int64(2), object(18)\n",
            "memory usage: 1.1+ MB\n"
          ]
        }
      ],
      "source": [
        "df.info()"
      ]
    },
    {
      "cell_type": "code",
      "execution_count": null,
      "id": "145bba1d",
      "metadata": {
        "id": "145bba1d",
        "outputId": "bab4d5f7-4b1f-4061-95fc-122e751c3d1f",
        "colab": {
          "base_uri": "https://localhost:8080/"
        }
      },
      "outputs": [
        {
          "output_type": "execute_result",
          "data": {
            "text/plain": [
              "customerID          0\n",
              "gender              0\n",
              "SeniorCitizen       0\n",
              "Partner             0\n",
              "Dependents          0\n",
              "tenure              0\n",
              "PhoneService        0\n",
              "MultipleLines       0\n",
              "InternetService     0\n",
              "OnlineSecurity      0\n",
              "OnlineBackup        0\n",
              "DeviceProtection    0\n",
              "TechSupport         0\n",
              "StreamingTV         0\n",
              "StreamingMovies     0\n",
              "Contract            0\n",
              "PaperlessBilling    0\n",
              "PaymentMethod       0\n",
              "MonthlyCharges      0\n",
              "TotalCharges        0\n",
              "Churn               0\n",
              "dtype: int64"
            ]
          },
          "metadata": {},
          "execution_count": 13
        }
      ],
      "source": [
        "df.isnull().sum()"
      ]
    },
    {
      "cell_type": "code",
      "execution_count": null,
      "id": "badd0f6c",
      "metadata": {
        "id": "badd0f6c",
        "outputId": "bf7e139b-f842-4f4d-b25b-ea5ad2affb3f",
        "colab": {
          "base_uri": "https://localhost:8080/",
          "height": 300
        }
      },
      "outputs": [
        {
          "output_type": "error",
          "ename": "ValueError",
          "evalue": "ignored",
          "traceback": [
            "\u001b[0;31m---------------------------------------------------------------------------\u001b[0m",
            "\u001b[0;31mValueError\u001b[0m                                Traceback (most recent call last)",
            "\u001b[0;32m/usr/local/lib/python3.7/dist-packages/pandas/_libs/lib.pyx\u001b[0m in \u001b[0;36mpandas._libs.lib.maybe_convert_numeric\u001b[0;34m()\u001b[0m\n",
            "\u001b[0;31mValueError\u001b[0m: Unable to parse string \" \"",
            "\nDuring handling of the above exception, another exception occurred:\n",
            "\u001b[0;31mValueError\u001b[0m                                Traceback (most recent call last)",
            "\u001b[0;32m<ipython-input-14-c5c53099adca>\u001b[0m in \u001b[0;36m<module>\u001b[0;34m()\u001b[0m\n\u001b[0;32m----> 1\u001b[0;31m \u001b[0mdf\u001b[0m\u001b[0;34m[\u001b[0m\u001b[0;34m'TotalCharges'\u001b[0m\u001b[0;34m]\u001b[0m\u001b[0;34m=\u001b[0m\u001b[0mpd\u001b[0m\u001b[0;34m.\u001b[0m\u001b[0mto_numeric\u001b[0m\u001b[0;34m(\u001b[0m\u001b[0mdf\u001b[0m\u001b[0;34m[\u001b[0m\u001b[0;34m'TotalCharges'\u001b[0m\u001b[0;34m]\u001b[0m\u001b[0;34m)\u001b[0m\u001b[0;34m\u001b[0m\u001b[0;34m\u001b[0m\u001b[0m\n\u001b[0m",
            "\u001b[0;32m/usr/local/lib/python3.7/dist-packages/pandas/core/tools/numeric.py\u001b[0m in \u001b[0;36mto_numeric\u001b[0;34m(arg, errors, downcast)\u001b[0m\n\u001b[1;32m    182\u001b[0m         \u001b[0;32mtry\u001b[0m\u001b[0;34m:\u001b[0m\u001b[0;34m\u001b[0m\u001b[0;34m\u001b[0m\u001b[0m\n\u001b[1;32m    183\u001b[0m             values, _ = lib.maybe_convert_numeric(\n\u001b[0;32m--> 184\u001b[0;31m                 \u001b[0mvalues\u001b[0m\u001b[0;34m,\u001b[0m \u001b[0mset\u001b[0m\u001b[0;34m(\u001b[0m\u001b[0;34m)\u001b[0m\u001b[0;34m,\u001b[0m \u001b[0mcoerce_numeric\u001b[0m\u001b[0;34m=\u001b[0m\u001b[0mcoerce_numeric\u001b[0m\u001b[0;34m\u001b[0m\u001b[0;34m\u001b[0m\u001b[0m\n\u001b[0m\u001b[1;32m    185\u001b[0m             )\n\u001b[1;32m    186\u001b[0m         \u001b[0;32mexcept\u001b[0m \u001b[0;34m(\u001b[0m\u001b[0mValueError\u001b[0m\u001b[0;34m,\u001b[0m \u001b[0mTypeError\u001b[0m\u001b[0;34m)\u001b[0m\u001b[0;34m:\u001b[0m\u001b[0;34m\u001b[0m\u001b[0;34m\u001b[0m\u001b[0m\n",
            "\u001b[0;32m/usr/local/lib/python3.7/dist-packages/pandas/_libs/lib.pyx\u001b[0m in \u001b[0;36mpandas._libs.lib.maybe_convert_numeric\u001b[0;34m()\u001b[0m\n",
            "\u001b[0;31mValueError\u001b[0m: Unable to parse string \" \" at position 488"
          ]
        }
      ],
      "source": [
        "df['TotalCharges']=pd.to_numeric(df['TotalCharges'])"
      ]
    },
    {
      "cell_type": "code",
      "execution_count": null,
      "id": "f808b2f5",
      "metadata": {
        "scrolled": true,
        "id": "f808b2f5",
        "colab": {
          "base_uri": "https://localhost:8080/",
          "height": 614
        },
        "outputId": "910f61a7-147e-4e58-c1dc-0fe8d60e74ec"
      },
      "outputs": [
        {
          "output_type": "execute_result",
          "data": {
            "text/html": [
              "\n",
              "  <div id=\"df-1d8bc414-3dac-4280-88bb-dbd1580e2d92\">\n",
              "    <div class=\"colab-df-container\">\n",
              "      <div>\n",
              "<style scoped>\n",
              "    .dataframe tbody tr th:only-of-type {\n",
              "        vertical-align: middle;\n",
              "    }\n",
              "\n",
              "    .dataframe tbody tr th {\n",
              "        vertical-align: top;\n",
              "    }\n",
              "\n",
              "    .dataframe thead th {\n",
              "        text-align: right;\n",
              "    }\n",
              "</style>\n",
              "<table border=\"1\" class=\"dataframe\">\n",
              "  <thead>\n",
              "    <tr style=\"text-align: right;\">\n",
              "      <th></th>\n",
              "      <th>customerID</th>\n",
              "      <th>gender</th>\n",
              "      <th>SeniorCitizen</th>\n",
              "      <th>Partner</th>\n",
              "      <th>Dependents</th>\n",
              "      <th>tenure</th>\n",
              "      <th>PhoneService</th>\n",
              "      <th>MultipleLines</th>\n",
              "      <th>InternetService</th>\n",
              "      <th>OnlineSecurity</th>\n",
              "      <th>OnlineBackup</th>\n",
              "      <th>DeviceProtection</th>\n",
              "      <th>TechSupport</th>\n",
              "      <th>StreamingTV</th>\n",
              "      <th>StreamingMovies</th>\n",
              "      <th>Contract</th>\n",
              "      <th>PaperlessBilling</th>\n",
              "      <th>PaymentMethod</th>\n",
              "      <th>MonthlyCharges</th>\n",
              "      <th>TotalCharges</th>\n",
              "      <th>Churn</th>\n",
              "    </tr>\n",
              "  </thead>\n",
              "  <tbody>\n",
              "    <tr>\n",
              "      <th>488</th>\n",
              "      <td>4472-LVYGI</td>\n",
              "      <td>Female</td>\n",
              "      <td>0</td>\n",
              "      <td>Yes</td>\n",
              "      <td>Yes</td>\n",
              "      <td>0</td>\n",
              "      <td>No</td>\n",
              "      <td>No phone service</td>\n",
              "      <td>DSL</td>\n",
              "      <td>Yes</td>\n",
              "      <td>No</td>\n",
              "      <td>Yes</td>\n",
              "      <td>Yes</td>\n",
              "      <td>Yes</td>\n",
              "      <td>No</td>\n",
              "      <td>Two year</td>\n",
              "      <td>Yes</td>\n",
              "      <td>Bank transfer (automatic)</td>\n",
              "      <td>52.55</td>\n",
              "      <td></td>\n",
              "      <td>No</td>\n",
              "    </tr>\n",
              "    <tr>\n",
              "      <th>753</th>\n",
              "      <td>3115-CZMZD</td>\n",
              "      <td>Male</td>\n",
              "      <td>0</td>\n",
              "      <td>No</td>\n",
              "      <td>Yes</td>\n",
              "      <td>0</td>\n",
              "      <td>Yes</td>\n",
              "      <td>No</td>\n",
              "      <td>No</td>\n",
              "      <td>No internet service</td>\n",
              "      <td>No internet service</td>\n",
              "      <td>No internet service</td>\n",
              "      <td>No internet service</td>\n",
              "      <td>No internet service</td>\n",
              "      <td>No internet service</td>\n",
              "      <td>Two year</td>\n",
              "      <td>No</td>\n",
              "      <td>Mailed check</td>\n",
              "      <td>20.25</td>\n",
              "      <td></td>\n",
              "      <td>No</td>\n",
              "    </tr>\n",
              "    <tr>\n",
              "      <th>936</th>\n",
              "      <td>5709-LVOEQ</td>\n",
              "      <td>Female</td>\n",
              "      <td>0</td>\n",
              "      <td>Yes</td>\n",
              "      <td>Yes</td>\n",
              "      <td>0</td>\n",
              "      <td>Yes</td>\n",
              "      <td>No</td>\n",
              "      <td>DSL</td>\n",
              "      <td>Yes</td>\n",
              "      <td>Yes</td>\n",
              "      <td>Yes</td>\n",
              "      <td>No</td>\n",
              "      <td>Yes</td>\n",
              "      <td>Yes</td>\n",
              "      <td>Two year</td>\n",
              "      <td>No</td>\n",
              "      <td>Mailed check</td>\n",
              "      <td>80.85</td>\n",
              "      <td></td>\n",
              "      <td>No</td>\n",
              "    </tr>\n",
              "    <tr>\n",
              "      <th>1082</th>\n",
              "      <td>4367-NUYAO</td>\n",
              "      <td>Male</td>\n",
              "      <td>0</td>\n",
              "      <td>Yes</td>\n",
              "      <td>Yes</td>\n",
              "      <td>0</td>\n",
              "      <td>Yes</td>\n",
              "      <td>Yes</td>\n",
              "      <td>No</td>\n",
              "      <td>No internet service</td>\n",
              "      <td>No internet service</td>\n",
              "      <td>No internet service</td>\n",
              "      <td>No internet service</td>\n",
              "      <td>No internet service</td>\n",
              "      <td>No internet service</td>\n",
              "      <td>Two year</td>\n",
              "      <td>No</td>\n",
              "      <td>Mailed check</td>\n",
              "      <td>25.75</td>\n",
              "      <td></td>\n",
              "      <td>No</td>\n",
              "    </tr>\n",
              "    <tr>\n",
              "      <th>1340</th>\n",
              "      <td>1371-DWPAZ</td>\n",
              "      <td>Female</td>\n",
              "      <td>0</td>\n",
              "      <td>Yes</td>\n",
              "      <td>Yes</td>\n",
              "      <td>0</td>\n",
              "      <td>No</td>\n",
              "      <td>No phone service</td>\n",
              "      <td>DSL</td>\n",
              "      <td>Yes</td>\n",
              "      <td>Yes</td>\n",
              "      <td>Yes</td>\n",
              "      <td>Yes</td>\n",
              "      <td>Yes</td>\n",
              "      <td>No</td>\n",
              "      <td>Two year</td>\n",
              "      <td>No</td>\n",
              "      <td>Credit card (automatic)</td>\n",
              "      <td>56.05</td>\n",
              "      <td></td>\n",
              "      <td>No</td>\n",
              "    </tr>\n",
              "    <tr>\n",
              "      <th>3331</th>\n",
              "      <td>7644-OMVMY</td>\n",
              "      <td>Male</td>\n",
              "      <td>0</td>\n",
              "      <td>Yes</td>\n",
              "      <td>Yes</td>\n",
              "      <td>0</td>\n",
              "      <td>Yes</td>\n",
              "      <td>No</td>\n",
              "      <td>No</td>\n",
              "      <td>No internet service</td>\n",
              "      <td>No internet service</td>\n",
              "      <td>No internet service</td>\n",
              "      <td>No internet service</td>\n",
              "      <td>No internet service</td>\n",
              "      <td>No internet service</td>\n",
              "      <td>Two year</td>\n",
              "      <td>No</td>\n",
              "      <td>Mailed check</td>\n",
              "      <td>19.85</td>\n",
              "      <td></td>\n",
              "      <td>No</td>\n",
              "    </tr>\n",
              "    <tr>\n",
              "      <th>3826</th>\n",
              "      <td>3213-VVOLG</td>\n",
              "      <td>Male</td>\n",
              "      <td>0</td>\n",
              "      <td>Yes</td>\n",
              "      <td>Yes</td>\n",
              "      <td>0</td>\n",
              "      <td>Yes</td>\n",
              "      <td>Yes</td>\n",
              "      <td>No</td>\n",
              "      <td>No internet service</td>\n",
              "      <td>No internet service</td>\n",
              "      <td>No internet service</td>\n",
              "      <td>No internet service</td>\n",
              "      <td>No internet service</td>\n",
              "      <td>No internet service</td>\n",
              "      <td>Two year</td>\n",
              "      <td>No</td>\n",
              "      <td>Mailed check</td>\n",
              "      <td>25.35</td>\n",
              "      <td></td>\n",
              "      <td>No</td>\n",
              "    </tr>\n",
              "    <tr>\n",
              "      <th>4380</th>\n",
              "      <td>2520-SGTTA</td>\n",
              "      <td>Female</td>\n",
              "      <td>0</td>\n",
              "      <td>Yes</td>\n",
              "      <td>Yes</td>\n",
              "      <td>0</td>\n",
              "      <td>Yes</td>\n",
              "      <td>No</td>\n",
              "      <td>No</td>\n",
              "      <td>No internet service</td>\n",
              "      <td>No internet service</td>\n",
              "      <td>No internet service</td>\n",
              "      <td>No internet service</td>\n",
              "      <td>No internet service</td>\n",
              "      <td>No internet service</td>\n",
              "      <td>Two year</td>\n",
              "      <td>No</td>\n",
              "      <td>Mailed check</td>\n",
              "      <td>20.00</td>\n",
              "      <td></td>\n",
              "      <td>No</td>\n",
              "    </tr>\n",
              "    <tr>\n",
              "      <th>5218</th>\n",
              "      <td>2923-ARZLG</td>\n",
              "      <td>Male</td>\n",
              "      <td>0</td>\n",
              "      <td>Yes</td>\n",
              "      <td>Yes</td>\n",
              "      <td>0</td>\n",
              "      <td>Yes</td>\n",
              "      <td>No</td>\n",
              "      <td>No</td>\n",
              "      <td>No internet service</td>\n",
              "      <td>No internet service</td>\n",
              "      <td>No internet service</td>\n",
              "      <td>No internet service</td>\n",
              "      <td>No internet service</td>\n",
              "      <td>No internet service</td>\n",
              "      <td>One year</td>\n",
              "      <td>Yes</td>\n",
              "      <td>Mailed check</td>\n",
              "      <td>19.70</td>\n",
              "      <td></td>\n",
              "      <td>No</td>\n",
              "    </tr>\n",
              "    <tr>\n",
              "      <th>6670</th>\n",
              "      <td>4075-WKNIU</td>\n",
              "      <td>Female</td>\n",
              "      <td>0</td>\n",
              "      <td>Yes</td>\n",
              "      <td>Yes</td>\n",
              "      <td>0</td>\n",
              "      <td>Yes</td>\n",
              "      <td>Yes</td>\n",
              "      <td>DSL</td>\n",
              "      <td>No</td>\n",
              "      <td>Yes</td>\n",
              "      <td>Yes</td>\n",
              "      <td>Yes</td>\n",
              "      <td>Yes</td>\n",
              "      <td>No</td>\n",
              "      <td>Two year</td>\n",
              "      <td>No</td>\n",
              "      <td>Mailed check</td>\n",
              "      <td>73.35</td>\n",
              "      <td></td>\n",
              "      <td>No</td>\n",
              "    </tr>\n",
              "    <tr>\n",
              "      <th>6754</th>\n",
              "      <td>2775-SEFEE</td>\n",
              "      <td>Male</td>\n",
              "      <td>0</td>\n",
              "      <td>No</td>\n",
              "      <td>Yes</td>\n",
              "      <td>0</td>\n",
              "      <td>Yes</td>\n",
              "      <td>Yes</td>\n",
              "      <td>DSL</td>\n",
              "      <td>Yes</td>\n",
              "      <td>Yes</td>\n",
              "      <td>No</td>\n",
              "      <td>Yes</td>\n",
              "      <td>No</td>\n",
              "      <td>No</td>\n",
              "      <td>Two year</td>\n",
              "      <td>Yes</td>\n",
              "      <td>Bank transfer (automatic)</td>\n",
              "      <td>61.90</td>\n",
              "      <td></td>\n",
              "      <td>No</td>\n",
              "    </tr>\n",
              "  </tbody>\n",
              "</table>\n",
              "</div>\n",
              "      <button class=\"colab-df-convert\" onclick=\"convertToInteractive('df-1d8bc414-3dac-4280-88bb-dbd1580e2d92')\"\n",
              "              title=\"Convert this dataframe to an interactive table.\"\n",
              "              style=\"display:none;\">\n",
              "        \n",
              "  <svg xmlns=\"http://www.w3.org/2000/svg\" height=\"24px\"viewBox=\"0 0 24 24\"\n",
              "       width=\"24px\">\n",
              "    <path d=\"M0 0h24v24H0V0z\" fill=\"none\"/>\n",
              "    <path d=\"M18.56 5.44l.94 2.06.94-2.06 2.06-.94-2.06-.94-.94-2.06-.94 2.06-2.06.94zm-11 1L8.5 8.5l.94-2.06 2.06-.94-2.06-.94L8.5 2.5l-.94 2.06-2.06.94zm10 10l.94 2.06.94-2.06 2.06-.94-2.06-.94-.94-2.06-.94 2.06-2.06.94z\"/><path d=\"M17.41 7.96l-1.37-1.37c-.4-.4-.92-.59-1.43-.59-.52 0-1.04.2-1.43.59L10.3 9.45l-7.72 7.72c-.78.78-.78 2.05 0 2.83L4 21.41c.39.39.9.59 1.41.59.51 0 1.02-.2 1.41-.59l7.78-7.78 2.81-2.81c.8-.78.8-2.07 0-2.86zM5.41 20L4 18.59l7.72-7.72 1.47 1.35L5.41 20z\"/>\n",
              "  </svg>\n",
              "      </button>\n",
              "      \n",
              "  <style>\n",
              "    .colab-df-container {\n",
              "      display:flex;\n",
              "      flex-wrap:wrap;\n",
              "      gap: 12px;\n",
              "    }\n",
              "\n",
              "    .colab-df-convert {\n",
              "      background-color: #E8F0FE;\n",
              "      border: none;\n",
              "      border-radius: 50%;\n",
              "      cursor: pointer;\n",
              "      display: none;\n",
              "      fill: #1967D2;\n",
              "      height: 32px;\n",
              "      padding: 0 0 0 0;\n",
              "      width: 32px;\n",
              "    }\n",
              "\n",
              "    .colab-df-convert:hover {\n",
              "      background-color: #E2EBFA;\n",
              "      box-shadow: 0px 1px 2px rgba(60, 64, 67, 0.3), 0px 1px 3px 1px rgba(60, 64, 67, 0.15);\n",
              "      fill: #174EA6;\n",
              "    }\n",
              "\n",
              "    [theme=dark] .colab-df-convert {\n",
              "      background-color: #3B4455;\n",
              "      fill: #D2E3FC;\n",
              "    }\n",
              "\n",
              "    [theme=dark] .colab-df-convert:hover {\n",
              "      background-color: #434B5C;\n",
              "      box-shadow: 0px 1px 3px 1px rgba(0, 0, 0, 0.15);\n",
              "      filter: drop-shadow(0px 1px 2px rgba(0, 0, 0, 0.3));\n",
              "      fill: #FFFFFF;\n",
              "    }\n",
              "  </style>\n",
              "\n",
              "      <script>\n",
              "        const buttonEl =\n",
              "          document.querySelector('#df-1d8bc414-3dac-4280-88bb-dbd1580e2d92 button.colab-df-convert');\n",
              "        buttonEl.style.display =\n",
              "          google.colab.kernel.accessAllowed ? 'block' : 'none';\n",
              "\n",
              "        async function convertToInteractive(key) {\n",
              "          const element = document.querySelector('#df-1d8bc414-3dac-4280-88bb-dbd1580e2d92');\n",
              "          const dataTable =\n",
              "            await google.colab.kernel.invokeFunction('convertToInteractive',\n",
              "                                                     [key], {});\n",
              "          if (!dataTable) return;\n",
              "\n",
              "          const docLinkHtml = 'Like what you see? Visit the ' +\n",
              "            '<a target=\"_blank\" href=https://colab.research.google.com/notebooks/data_table.ipynb>data table notebook</a>'\n",
              "            + ' to learn more about interactive tables.';\n",
              "          element.innerHTML = '';\n",
              "          dataTable['output_type'] = 'display_data';\n",
              "          await google.colab.output.renderOutput(dataTable, element);\n",
              "          const docLink = document.createElement('div');\n",
              "          docLink.innerHTML = docLinkHtml;\n",
              "          element.appendChild(docLink);\n",
              "        }\n",
              "      </script>\n",
              "    </div>\n",
              "  </div>\n",
              "  "
            ],
            "text/plain": [
              "      customerID  gender  SeniorCitizen  ... MonthlyCharges TotalCharges  Churn\n",
              "488   4472-LVYGI  Female              0  ...          52.55                  No\n",
              "753   3115-CZMZD    Male              0  ...          20.25                  No\n",
              "936   5709-LVOEQ  Female              0  ...          80.85                  No\n",
              "1082  4367-NUYAO    Male              0  ...          25.75                  No\n",
              "1340  1371-DWPAZ  Female              0  ...          56.05                  No\n",
              "3331  7644-OMVMY    Male              0  ...          19.85                  No\n",
              "3826  3213-VVOLG    Male              0  ...          25.35                  No\n",
              "4380  2520-SGTTA  Female              0  ...          20.00                  No\n",
              "5218  2923-ARZLG    Male              0  ...          19.70                  No\n",
              "6670  4075-WKNIU  Female              0  ...          73.35                  No\n",
              "6754  2775-SEFEE    Male              0  ...          61.90                  No\n",
              "\n",
              "[11 rows x 21 columns]"
            ]
          },
          "metadata": {},
          "execution_count": 15
        }
      ],
      "source": [
        "df[pd.to_numeric(df.TotalCharges, errors='coerce').isnull()]"
      ]
    },
    {
      "cell_type": "code",
      "execution_count": null,
      "id": "590009e3",
      "metadata": {
        "id": "590009e3"
      },
      "outputs": [],
      "source": [
        "df=df[df.TotalCharges!=' ']"
      ]
    },
    {
      "cell_type": "code",
      "execution_count": null,
      "id": "483058a3",
      "metadata": {
        "id": "483058a3",
        "outputId": "2a62214d-f388-4982-aa86-37e706120390",
        "colab": {
          "base_uri": "https://localhost:8080/"
        }
      },
      "outputs": [
        {
          "output_type": "execute_result",
          "data": {
            "text/plain": [
              "(7032, 21)"
            ]
          },
          "metadata": {},
          "execution_count": 17
        }
      ],
      "source": [
        "df.shape"
      ]
    },
    {
      "cell_type": "code",
      "execution_count": null,
      "id": "60ba188d",
      "metadata": {
        "id": "60ba188d"
      },
      "outputs": [],
      "source": [
        "df['TotalCharges']=pd.to_numeric(df['TotalCharges'])"
      ]
    },
    {
      "cell_type": "code",
      "execution_count": null,
      "id": "4647a9d6",
      "metadata": {
        "id": "4647a9d6"
      },
      "outputs": [],
      "source": [
        "C_N_T=df[df['Churn']=='No'].tenure"
      ]
    },
    {
      "cell_type": "code",
      "execution_count": null,
      "id": "c3b1c13d",
      "metadata": {
        "id": "c3b1c13d"
      },
      "outputs": [],
      "source": [
        "C_Y_T=df[df['Churn']=='Yes'].tenure"
      ]
    },
    {
      "cell_type": "code",
      "execution_count": null,
      "id": "56ab99d0",
      "metadata": {
        "id": "56ab99d0",
        "outputId": "c4129e90-963b-4928-fe7b-df908a502605",
        "colab": {
          "base_uri": "https://localhost:8080/",
          "height": 297
        }
      },
      "outputs": [
        {
          "output_type": "execute_result",
          "data": {
            "text/plain": [
              "<matplotlib.legend.Legend at 0x7f61d5c9c250>"
            ]
          },
          "metadata": {},
          "execution_count": 21
        },
        {
          "output_type": "display_data",
          "data": {
            "image/png": "[encoded data removed]",
            "text/plain": [
              "<Figure size 432x288 with 1 Axes>"
            ]
          },
          "metadata": {
            "needs_background": "light"
          }
        }
      ],
      "source": [
        "plt.hist([C_Y_T,C_N_T], color=('green','red'), label=['Churn=Yes','Churn=No'])\n",
        "plt.xlabel(\"Tenure  in Months\")\n",
        "plt.ylabel('Number of Customers')\n",
        "plt.legend()"
      ]
    },
    {
      "cell_type": "code",
      "execution_count": null,
      "id": "0e3620d6",
      "metadata": {
        "id": "0e3620d6",
        "outputId": "3f115f0f-de59-4dce-f2c9-368bd6c559af",
        "colab": {
          "base_uri": "https://localhost:8080/",
          "height": 297
        }
      },
      "outputs": [
        {
          "output_type": "execute_result",
          "data": {
            "text/plain": [
              "<matplotlib.legend.Legend at 0x7f61d5b1b0d0>"
            ]
          },
          "metadata": {},
          "execution_count": 22
        },
        {
          "output_type": "display_data",
          "data": {
            "image/png": "[encoded data removed]",
            "text/plain": [
              "<Figure size 432x288 with 1 Axes>"
            ]
          },
          "metadata": {
            "needs_background": "light"
          }
        }
      ],
      "source": [
        "C_N_T_MC=df[df['Churn']=='No'].MonthlyCharges\n",
        "C_Y_T_MC=df[df['Churn']=='Yes'].MonthlyCharges\n",
        "plt.hist([C_Y_T_MC,C_N_T_MC], color=('green','red'), label=['Churn=Yes','Churn=No'])\n",
        "plt.xlabel('Monthly Charges')\n",
        "plt.ylabel('Number of customers')\n",
        "plt.legend()\n"
      ]
    },
    {
      "cell_type": "code",
      "execution_count": null,
      "id": "0dc71823",
      "metadata": {
        "id": "0dc71823",
        "outputId": "c3be6393-2392-4da7-e9ac-581872bbd17b",
        "colab": {
          "base_uri": "https://localhost:8080/",
          "height": 297
        }
      },
      "outputs": [
        {
          "output_type": "execute_result",
          "data": {
            "text/plain": [
              "<matplotlib.legend.Legend at 0x7f61d55b0ed0>"
            ]
          },
          "metadata": {},
          "execution_count": 23
        },
        {
          "output_type": "display_data",
          "data": {
            "image/png": "[encoded data removed]",
            "text/plain": [
              "<Figure size 432x288 with 1 Axes>"
            ]
          },
          "metadata": {
            "needs_background": "light"
          }
        }
      ],
      "source": [
        "C_N_T_MC=df[df['Churn']=='No'].TotalCharges\n",
        "C_Y_T_MC=df[df['Churn']=='Yes'].TotalCharges\n",
        "plt.hist([C_Y_T_MC,C_N_T_MC], color=('green','red'), label=['Churn=Yes','Churn=No'])\n",
        "plt.xlabel('Total Charges')\n",
        "plt.ylabel('Number of customers')\n",
        "plt.legend()\n"
      ]
    },
    {
      "cell_type": "code",
      "execution_count": null,
      "id": "d328887b",
      "metadata": {
        "scrolled": true,
        "id": "d328887b",
        "outputId": "10cb7140-534a-4aa7-a687-00e75371befb",
        "colab": {
          "base_uri": "https://localhost:8080/"
        }
      },
      "outputs": [
        {
          "output_type": "stream",
          "name": "stdout",
          "text": [
            "customerID:['7590-VHVEG' '5575-GNVDE' '3668-QPYBK' ... '4801-JZAZL' '8361-LTMKD'\n",
            " '3186-AJIEK']\n",
            "gender:['Female' 'Male']\n",
            "Partner:['Yes' 'No']\n",
            "Dependents:['No' 'Yes']\n",
            "PhoneService:['No' 'Yes']\n",
            "MultipleLines:['No phone service' 'No' 'Yes']\n",
            "InternetService:['DSL' 'Fiber optic' 'No']\n",
            "OnlineSecurity:['No' 'Yes' 'No internet service']\n",
            "OnlineBackup:['Yes' 'No' 'No internet service']\n",
            "DeviceProtection:['No' 'Yes' 'No internet service']\n",
            "TechSupport:['No' 'Yes' 'No internet service']\n",
            "StreamingTV:['No' 'Yes' 'No internet service']\n",
            "StreamingMovies:['No' 'Yes' 'No internet service']\n",
            "Contract:['Month-to-month' 'One year' 'Two year']\n",
            "PaperlessBilling:['Yes' 'No']\n",
            "PaymentMethod:['Electronic check' 'Mailed check' 'Bank transfer (automatic)'\n",
            " 'Credit card (automatic)']\n",
            "Churn:['No' 'Yes']\n"
          ]
        }
      ],
      "source": [
        "    for column in df:\n",
        "        if df[column].dtype=='object':\n",
        "             print(f'{column}:{df[column].unique()}')   "
      ]
    },
    {
      "cell_type": "code",
      "execution_count": null,
      "id": "49e56fac",
      "metadata": {
        "id": "49e56fac"
      },
      "outputs": [],
      "source": [
        "df.replace('No internet service', 'No', inplace=True)\n",
        "df.replace('No phone service', 'No', inplace=True)"
      ]
    },
    {
      "cell_type": "code",
      "execution_count": null,
      "id": "912e6663",
      "metadata": {
        "id": "912e6663",
        "outputId": "63f7d8ba-72f7-4477-824f-9562aa2c7c05",
        "colab": {
          "base_uri": "https://localhost:8080/"
        }
      },
      "outputs": [
        {
          "output_type": "stream",
          "name": "stdout",
          "text": [
            "customerID:['7590-VHVEG' '5575-GNVDE' '3668-QPYBK' ... '4801-JZAZL' '8361-LTMKD'\n",
            " '3186-AJIEK']\n",
            "gender:['Female' 'Male']\n",
            "Partner:['Yes' 'No']\n",
            "Dependents:['No' 'Yes']\n",
            "PhoneService:['No' 'Yes']\n",
            "MultipleLines:['No' 'Yes']\n",
            "InternetService:['DSL' 'Fiber optic' 'No']\n",
            "OnlineSecurity:['No' 'Yes']\n",
            "OnlineBackup:['Yes' 'No']\n",
            "DeviceProtection:['No' 'Yes']\n",
            "TechSupport:['No' 'Yes']\n",
            "StreamingTV:['No' 'Yes']\n",
            "StreamingMovies:['No' 'Yes']\n",
            "Contract:['Month-to-month' 'One year' 'Two year']\n",
            "PaperlessBilling:['Yes' 'No']\n",
            "PaymentMethod:['Electronic check' 'Mailed check' 'Bank transfer (automatic)'\n",
            " 'Credit card (automatic)']\n",
            "Churn:['No' 'Yes']\n"
          ]
        }
      ],
      "source": [
        " for column in df:\n",
        "        if df[column].dtype=='object':\n",
        "             print(f'{column}:{df[column].unique()}')   "
      ]
    },
    {
      "cell_type": "code",
      "execution_count": null,
      "id": "a7adf892",
      "metadata": {
        "id": "a7adf892"
      },
      "outputs": [],
      "source": [
        "from sklearn.preprocessing import LabelEncoder\n",
        "cols=['Partner','Dependents','PhoneService','MultipleLines','OnlineSecurity',\\\n",
        "      'DeviceProtection','TechSupport','StreamingTV','StreamingMovies',\\\n",
        "      'PaperlessBilling','Churn']\n",
        "le=LabelEncoder()\n",
        "for col in cols:\n",
        "    df[col]=le.fit_transform(df[col])"
      ]
    },
    {
      "cell_type": "code",
      "execution_count": null,
      "id": "159a9de1",
      "metadata": {
        "id": "159a9de1"
      },
      "outputs": [],
      "source": [
        "from sklearn.preprocessing import LabelEncoder\n",
        "cols=['OnlineBackup']\n",
        "le=LabelEncoder()\n",
        "for col in cols:\n",
        "    df[col]=le.fit_transform(df[col])"
      ]
    },
    {
      "cell_type": "code",
      "execution_count": null,
      "id": "3ea31084",
      "metadata": {
        "id": "3ea31084",
        "outputId": "d18485cc-8d55-4c9a-bfd1-13de8946ae9b",
        "colab": {
          "base_uri": "https://localhost:8080/"
        }
      },
      "outputs": [
        {
          "output_type": "stream",
          "name": "stdout",
          "text": [
            "customerID:['7590-VHVEG' '5575-GNVDE' '3668-QPYBK' ... '4801-JZAZL' '8361-LTMKD'\n",
            " '3186-AJIEK']\n",
            "gender:['Female' 'Male']\n",
            "SeniorCitizen:[0 1]\n",
            "Partner:[1 0]\n",
            "Dependents:[0 1]\n",
            "tenure:[ 1 34  2 45  8 22 10 28 62 13 16 58 49 25 69 52 71 21 12 30 47 72 17 27\n",
            "  5 46 11 70 63 43 15 60 18 66  9  3 31 50 64 56  7 42 35 48 29 65 38 68\n",
            " 32 55 37 36 41  6  4 33 67 23 57 61 14 20 53 40 59 24 44 19 54 51 26 39]\n",
            "PhoneService:[0 1]\n",
            "MultipleLines:[0 1]\n",
            "InternetService:['DSL' 'Fiber optic' 'No']\n",
            "OnlineSecurity:[0 1]\n",
            "OnlineBackup:[1 0]\n",
            "DeviceProtection:[0 1]\n",
            "TechSupport:[0 1]\n",
            "StreamingTV:[0 1]\n",
            "StreamingMovies:[0 1]\n",
            "Contract:['Month-to-month' 'One year' 'Two year']\n",
            "PaperlessBilling:[1 0]\n",
            "PaymentMethod:['Electronic check' 'Mailed check' 'Bank transfer (automatic)'\n",
            " 'Credit card (automatic)']\n",
            "MonthlyCharges:[29.85 56.95 53.85 ... 63.1  44.2  78.7 ]\n",
            "TotalCharges:[  29.85 1889.5   108.15 ...  346.45  306.6  6844.5 ]\n",
            "Churn:[0 1]\n"
          ]
        }
      ],
      "source": [
        "    for column in df:\n",
        "        print(f'{column}:{df[column].unique()}')   "
      ]
    },
    {
      "cell_type": "code",
      "execution_count": null,
      "id": "56b63109",
      "metadata": {
        "id": "56b63109"
      },
      "outputs": [],
      "source": [
        "df['gender'].replace({'Female':1,'Male':0}, inplace=True)"
      ]
    },
    {
      "cell_type": "code",
      "execution_count": null,
      "id": "6c7f4acf",
      "metadata": {
        "scrolled": true,
        "id": "6c7f4acf",
        "outputId": "1762cf9f-cac3-4a01-998c-7d5e1f6578e0",
        "colab": {
          "base_uri": "https://localhost:8080/",
          "height": 297
        }
      },
      "outputs": [
        {
          "output_type": "execute_result",
          "data": {
            "text/plain": [
              "<matplotlib.axes._subplots.AxesSubplot at 0x7f61d5554450>"
            ]
          },
          "metadata": {},
          "execution_count": 31
        },
        {
          "output_type": "display_data",
          "data": {
            "image/png": "[encoded data removed]",
            "text/plain": [
              "<Figure size 432x288 with 1 Axes>"
            ]
          },
          "metadata": {
            "needs_background": "light"
          }
        }
      ],
      "source": [
        "sns.countplot(df['gender'])"
      ]
    },
    {
      "cell_type": "code",
      "execution_count": null,
      "id": "2decf877",
      "metadata": {
        "id": "2decf877"
      },
      "outputs": [],
      "source": [
        "df1=pd.get_dummies(data=df,columns=['InternetService','Contract','PaymentMethod'])"
      ]
    },
    {
      "cell_type": "code",
      "execution_count": null,
      "id": "8d6b46d0",
      "metadata": {
        "id": "8d6b46d0"
      },
      "outputs": [],
      "source": [
        "cols_scale=['tenure','MonthlyCharges','TotalCharges']\n",
        "from sklearn.preprocessing import MinMaxScaler\n",
        "scaler=MinMaxScaler()\n",
        "df1[cols_scale]=scaler.fit_transform(df1[cols_scale])"
      ]
    },
    {
      "cell_type": "code",
      "execution_count": null,
      "id": "59fbb5d8",
      "metadata": {
        "id": "59fbb5d8"
      },
      "outputs": [],
      "source": [
        "X=df1.drop(columns=['customerID','Churn'])\n",
        "y=df1['Churn']"
      ]
    },
    {
      "cell_type": "code",
      "execution_count": null,
      "id": "7e2d4a4e",
      "metadata": {
        "id": "7e2d4a4e"
      },
      "outputs": [],
      "source": [
        "from sklearn.model_selection import train_test_split\n",
        "x_train,x_test,y_train,y_test=train_test_split(X,y, test_size=0.2, random_state=5)"
      ]
    },
    {
      "cell_type": "code",
      "source": [
        "len(x_train.columns)"
      ],
      "metadata": {
        "colab": {
          "base_uri": "https://localhost:8080/"
        },
        "id": "_ksPjRTy8Owr",
        "outputId": "4e1b78e3-e267-453d-c5a0-8175560b3af5"
      },
      "id": "_ksPjRTy8Owr",
      "execution_count": null,
      "outputs": [
        {
          "output_type": "execute_result",
          "data": {
            "text/plain": [
              "26"
            ]
          },
          "metadata": {},
          "execution_count": 39
        }
      ]
    },
    {
      "cell_type": "code",
      "execution_count": null,
      "id": "c0e39742",
      "metadata": {
        "scrolled": true,
        "id": "c0e39742"
      },
      "outputs": [],
      "source": [
        "import tensorflow as tf"
      ]
    },
    {
      "cell_type": "code",
      "execution_count": null,
      "id": "e479a07e",
      "metadata": {
        "id": "e479a07e"
      },
      "outputs": [],
      "source": [
        "from tensorflow import keras"
      ]
    },
    {
      "cell_type": "code",
      "source": [
        "model=keras.Sequential([\n",
        "                        keras.layers.Dense(20, input_shape=(26,),activation='relu'),\n",
        "                        keras.layers.Dense(1,activation='sigmoid'),])\n",
        "model.compile(optimizer='adam',\n",
        "              loss='binary_crossentropy',metrics=['accuracy'])\n",
        "model.fit(x_train,y_train,epochs=60)"
      ],
      "metadata": {
        "id": "OoHYkfYgzU42",
        "colab": {
          "base_uri": "https://localhost:8080/"
        },
        "outputId": "d176699a-cfd0-43a4-cd98-ccddc682e84f"
      },
      "id": "OoHYkfYgzU42",
      "execution_count": null,
      "outputs": [
        {
          "output_type": "stream",
          "name": "stdout",
          "text": [
            "Epoch 1/60\n",
            "176/176 [==============================] - 1s 2ms/step - loss: 0.5059 - accuracy: 0.7575\n",
            "Epoch 2/60\n",
            "176/176 [==============================] - 0s 2ms/step - loss: 0.4302 - accuracy: 0.7927\n",
            "Epoch 3/60\n",
            "176/176 [==============================] - 0s 2ms/step - loss: 0.4192 - accuracy: 0.8020\n",
            "Epoch 4/60\n",
            "176/176 [==============================] - 0s 2ms/step - loss: 0.4145 - accuracy: 0.8037\n",
            "Epoch 5/60\n",
            "176/176 [==============================] - 0s 2ms/step - loss: 0.4117 - accuracy: 0.8092\n",
            "Epoch 6/60\n",
            "176/176 [==============================] - 0s 2ms/step - loss: 0.4108 - accuracy: 0.8055\n",
            "Epoch 7/60\n",
            "176/176 [==============================] - 1s 4ms/step - loss: 0.4100 - accuracy: 0.8071\n",
            "Epoch 8/60\n",
            "176/176 [==============================] - 1s 3ms/step - loss: 0.4089 - accuracy: 0.8096\n",
            "Epoch 9/60\n",
            "176/176 [==============================] - 0s 2ms/step - loss: 0.4076 - accuracy: 0.8100\n",
            "Epoch 10/60\n",
            "176/176 [==============================] - 0s 2ms/step - loss: 0.4067 - accuracy: 0.8076\n",
            "Epoch 11/60\n",
            "176/176 [==============================] - 0s 2ms/step - loss: 0.4065 - accuracy: 0.8092\n",
            "Epoch 12/60\n",
            "176/176 [==============================] - 0s 2ms/step - loss: 0.4058 - accuracy: 0.8119\n",
            "Epoch 13/60\n",
            "176/176 [==============================] - 0s 2ms/step - loss: 0.4054 - accuracy: 0.8098\n",
            "Epoch 14/60\n",
            "176/176 [==============================] - 0s 2ms/step - loss: 0.4047 - accuracy: 0.8105\n",
            "Epoch 15/60\n",
            "176/176 [==============================] - 0s 2ms/step - loss: 0.4036 - accuracy: 0.8100\n",
            "Epoch 16/60\n",
            "176/176 [==============================] - 0s 2ms/step - loss: 0.4027 - accuracy: 0.8140\n",
            "Epoch 17/60\n",
            "176/176 [==============================] - 0s 2ms/step - loss: 0.4032 - accuracy: 0.8117\n",
            "Epoch 18/60\n",
            "176/176 [==============================] - 0s 2ms/step - loss: 0.4027 - accuracy: 0.8142\n",
            "Epoch 19/60\n",
            "176/176 [==============================] - 0s 2ms/step - loss: 0.4022 - accuracy: 0.8112\n",
            "Epoch 20/60\n",
            "176/176 [==============================] - 0s 2ms/step - loss: 0.4019 - accuracy: 0.8112\n",
            "Epoch 21/60\n",
            "176/176 [==============================] - 0s 2ms/step - loss: 0.4009 - accuracy: 0.8114\n",
            "Epoch 22/60\n",
            "176/176 [==============================] - 0s 2ms/step - loss: 0.4012 - accuracy: 0.8124\n",
            "Epoch 23/60\n",
            "176/176 [==============================] - 0s 2ms/step - loss: 0.3997 - accuracy: 0.8100\n",
            "Epoch 24/60\n",
            "176/176 [==============================] - 0s 2ms/step - loss: 0.4000 - accuracy: 0.8148\n",
            "Epoch 25/60\n",
            "176/176 [==============================] - 0s 2ms/step - loss: 0.3988 - accuracy: 0.8116\n",
            "Epoch 26/60\n",
            "176/176 [==============================] - 0s 2ms/step - loss: 0.3988 - accuracy: 0.8139\n",
            "Epoch 27/60\n",
            "176/176 [==============================] - 0s 2ms/step - loss: 0.3988 - accuracy: 0.8108\n",
            "Epoch 28/60\n",
            "176/176 [==============================] - 0s 2ms/step - loss: 0.3987 - accuracy: 0.8128\n",
            "Epoch 29/60\n",
            "176/176 [==============================] - 0s 2ms/step - loss: 0.3980 - accuracy: 0.8137\n",
            "Epoch 30/60\n",
            "176/176 [==============================] - 0s 2ms/step - loss: 0.3974 - accuracy: 0.8156\n",
            "Epoch 31/60\n",
            "176/176 [==============================] - 0s 2ms/step - loss: 0.3971 - accuracy: 0.8146\n",
            "Epoch 32/60\n",
            "176/176 [==============================] - 0s 2ms/step - loss: 0.3969 - accuracy: 0.8123\n",
            "Epoch 33/60\n",
            "176/176 [==============================] - 0s 2ms/step - loss: 0.3965 - accuracy: 0.8142\n",
            "Epoch 34/60\n",
            "176/176 [==============================] - 0s 2ms/step - loss: 0.3959 - accuracy: 0.8139\n",
            "Epoch 35/60\n",
            "176/176 [==============================] - 0s 2ms/step - loss: 0.3955 - accuracy: 0.8148\n",
            "Epoch 36/60\n",
            "176/176 [==============================] - 0s 2ms/step - loss: 0.3950 - accuracy: 0.8139\n",
            "Epoch 37/60\n",
            "176/176 [==============================] - 0s 2ms/step - loss: 0.3948 - accuracy: 0.8144\n",
            "Epoch 38/60\n",
            "176/176 [==============================] - 0s 2ms/step - loss: 0.3949 - accuracy: 0.8140\n",
            "Epoch 39/60\n",
            "176/176 [==============================] - 0s 2ms/step - loss: 0.3945 - accuracy: 0.8149\n",
            "Epoch 40/60\n",
            "176/176 [==============================] - 0s 2ms/step - loss: 0.3940 - accuracy: 0.8164\n",
            "Epoch 41/60\n",
            "176/176 [==============================] - 0s 2ms/step - loss: 0.3940 - accuracy: 0.8144\n",
            "Epoch 42/60\n",
            "176/176 [==============================] - 0s 2ms/step - loss: 0.3938 - accuracy: 0.8160\n",
            "Epoch 43/60\n",
            "176/176 [==============================] - 0s 2ms/step - loss: 0.3933 - accuracy: 0.8148\n",
            "Epoch 44/60\n",
            "176/176 [==============================] - 0s 2ms/step - loss: 0.3922 - accuracy: 0.8160\n",
            "Epoch 45/60\n",
            "176/176 [==============================] - 0s 2ms/step - loss: 0.3925 - accuracy: 0.8165\n",
            "Epoch 46/60\n",
            "176/176 [==============================] - 0s 2ms/step - loss: 0.3921 - accuracy: 0.8165\n",
            "Epoch 47/60\n",
            "176/176 [==============================] - 0s 2ms/step - loss: 0.3922 - accuracy: 0.8158\n",
            "Epoch 48/60\n",
            "176/176 [==============================] - 0s 2ms/step - loss: 0.3918 - accuracy: 0.8160\n",
            "Epoch 49/60\n",
            "176/176 [==============================] - 0s 2ms/step - loss: 0.3917 - accuracy: 0.8185\n",
            "Epoch 50/60\n",
            "176/176 [==============================] - 0s 2ms/step - loss: 0.3909 - accuracy: 0.8164\n",
            "Epoch 51/60\n",
            "176/176 [==============================] - 0s 2ms/step - loss: 0.3919 - accuracy: 0.8164\n",
            "Epoch 52/60\n",
            "176/176 [==============================] - 0s 2ms/step - loss: 0.3910 - accuracy: 0.8181\n",
            "Epoch 53/60\n",
            "176/176 [==============================] - 0s 2ms/step - loss: 0.3906 - accuracy: 0.8162\n",
            "Epoch 54/60\n",
            "176/176 [==============================] - 0s 2ms/step - loss: 0.3901 - accuracy: 0.8178\n",
            "Epoch 55/60\n",
            "176/176 [==============================] - 0s 2ms/step - loss: 0.3898 - accuracy: 0.8176\n",
            "Epoch 56/60\n",
            "176/176 [==============================] - 0s 2ms/step - loss: 0.3899 - accuracy: 0.8185\n",
            "Epoch 57/60\n",
            "176/176 [==============================] - 0s 2ms/step - loss: 0.3895 - accuracy: 0.8185\n",
            "Epoch 58/60\n",
            "176/176 [==============================] - 0s 2ms/step - loss: 0.3888 - accuracy: 0.8190\n",
            "Epoch 59/60\n",
            "176/176 [==============================] - 0s 2ms/step - loss: 0.3891 - accuracy: 0.8160\n",
            "Epoch 60/60\n",
            "176/176 [==============================] - 0s 2ms/step - loss: 0.3890 - accuracy: 0.8178\n"
          ]
        },
        {
          "output_type": "execute_result",
          "data": {
            "text/plain": [
              "<keras.callbacks.History at 0x7f61cf405710>"
            ]
          },
          "metadata": {},
          "execution_count": 47
        }
      ]
    },
    {
      "cell_type": "code",
      "source": [
        "model.evaluate(x_test,y_test)"
      ],
      "metadata": {
        "colab": {
          "base_uri": "https://localhost:8080/"
        },
        "id": "5YTWvXSb_atb",
        "outputId": "7998f9d1-93d9-4bb5-c8e4-7cbeccf369b2"
      },
      "id": "5YTWvXSb_atb",
      "execution_count": null,
      "outputs": [
        {
          "output_type": "stream",
          "name": "stdout",
          "text": [
            "44/44 [==============================] - 0s 3ms/step - loss: 0.4483 - accuracy: 0.7882\n"
          ]
        },
        {
          "output_type": "execute_result",
          "data": {
            "text/plain": [
              "[0.44832131266593933, 0.7882018685340881]"
            ]
          },
          "metadata": {},
          "execution_count": 48
        }
      ]
    },
    {
      "cell_type": "code",
      "source": [
        "yp=model.predict(x_test)\n",
        "yp[:5]"
      ],
      "metadata": {
        "colab": {
          "base_uri": "https://localhost:8080/"
        },
        "id": "nhR9P-OxC2VC",
        "outputId": "e7478aa6-509f-4f82-e4a0-c6fabb1194f2"
      },
      "id": "nhR9P-OxC2VC",
      "execution_count": null,
      "outputs": [
        {
          "output_type": "execute_result",
          "data": {
            "text/plain": [
              "array([[0.37403867],\n",
              "       [0.6050725 ],\n",
              "       [0.01428455],\n",
              "       [0.77034414],\n",
              "       [0.51379734]], dtype=float32)"
            ]
          },
          "metadata": {},
          "execution_count": 50
        }
      ]
    },
    {
      "cell_type": "code",
      "source": [
        "y_pred=[]\n",
        "for element in yp:\n",
        "  if element > 0.5:\n",
        "    y_pred.append(1)\n",
        "  else:\n",
        "    y_pred.append(0)\n",
        "     "
      ],
      "metadata": {
        "id": "TfpTPqwkDizL"
      },
      "id": "TfpTPqwkDizL",
      "execution_count": null,
      "outputs": []
    },
    {
      "cell_type": "code",
      "source": [
        "y_pred[:10]"
      ],
      "metadata": {
        "colab": {
          "base_uri": "https://localhost:8080/"
        },
        "id": "xI9Egwu4IDgK",
        "outputId": "f2cd8008-e089-4670-b0b0-154374a2d51f"
      },
      "id": "xI9Egwu4IDgK",
      "execution_count": null,
      "outputs": [
        {
          "output_type": "execute_result",
          "data": {
            "text/plain": [
              "[0, 1, 0, 1, 1, 1, 0, 1, 0, 0]"
            ]
          },
          "metadata": {},
          "execution_count": 54
        }
      ]
    },
    {
      "cell_type": "code",
      "source": [
        "y_test[:10]"
      ],
      "metadata": {
        "colab": {
          "base_uri": "https://localhost:8080/"
        },
        "id": "CuKDco8CIFff",
        "outputId": "790fbdd5-c621-40e7-b451-7045d290a2cd"
      },
      "id": "CuKDco8CIFff",
      "execution_count": null,
      "outputs": [
        {
          "output_type": "execute_result",
          "data": {
            "text/plain": [
              "2660    0\n",
              "744     0\n",
              "5579    1\n",
              "64      1\n",
              "3287    1\n",
              "816     1\n",
              "2670    0\n",
              "5920    0\n",
              "1023    0\n",
              "6087    0\n",
              "Name: Churn, dtype: int64"
            ]
          },
          "metadata": {},
          "execution_count": 55
        }
      ]
    },
    {
      "cell_type": "code",
      "source": [
        "# here 👆🏻 compare y_test and y_pred with each other,%70 accuracy kind of makes sense here, errors are anticipated"
      ],
      "metadata": {
        "id": "3IPY4_xlIX51"
      },
      "id": "3IPY4_xlIX51",
      "execution_count": null,
      "outputs": []
    },
    {
      "cell_type": "code",
      "source": [
        "from sklearn.metrics import classification_report, confusion_matrix\n",
        "print (classification_report(y_test,y_pred))"
      ],
      "metadata": {
        "colab": {
          "base_uri": "https://localhost:8080/"
        },
        "id": "fIkVRcqLIr6b",
        "outputId": "c6738c3b-d2ae-45a3-ff0b-07e42274ef5b"
      },
      "id": "fIkVRcqLIr6b",
      "execution_count": null,
      "outputs": [
        {
          "output_type": "stream",
          "name": "stdout",
          "text": [
            "              precision    recall  f1-score   support\n",
            "\n",
            "           0       0.83      0.88      0.86       999\n",
            "           1       0.66      0.55      0.60       408\n",
            "\n",
            "    accuracy                           0.79      1407\n",
            "   macro avg       0.74      0.72      0.73      1407\n",
            "weighted avg       0.78      0.79      0.78      1407\n",
            "\n"
          ]
        }
      ]
    },
    {
      "cell_type": "code",
      "source": [
        "cm=tf.math.confusion_matrix(labels=y_test, predictions=y_pred)\n",
        "sns.heatmap(cm, annot=True, fmt='d')"
      ],
      "metadata": {
        "colab": {
          "base_uri": "https://localhost:8080/",
          "height": 283
        },
        "id": "05ZABsGnOuWn",
        "outputId": "318a5a88-56d7-4469-ad9d-9eaffdfb9d1f"
      },
      "id": "05ZABsGnOuWn",
      "execution_count": null,
      "outputs": [
        {
          "output_type": "execute_result",
          "data": {
            "text/plain": [
              "<matplotlib.axes._subplots.AxesSubplot at 0x7f61c89facd0>"
            ]
          },
          "metadata": {},
          "execution_count": 60
        },
        {
          "output_type": "display_data",
          "data": {
            "image/png": "[encoded data removed]",
            "text/plain": [
              "<Figure size 432x288 with 2 Axes>"
            ]
          },
          "metadata": {
            "needs_background": "light"
          }
        }
      ]
    },
    {
      "cell_type": "code",
      "source": [
        ""
      ],
      "metadata": {
        "id": "PHDY5AJRSizI"
      },
      "id": "PHDY5AJRSizI",
      "execution_count": null,
      "outputs": []
    }
  ],
  "metadata": {
    "kernelspec": {
      "display_name": "Python 3",
      "language": "python",
      "name": "python3"
    },
    "language_info": {
      "codemirror_mode": {
        "name": "ipython",
        "version": 3
      },
      "file_extension": ".py",
      "mimetype": "text/x-python",
      "name": "python",
      "nbconvert_exporter": "python",
      "pygments_lexer": "ipython3",
      "version": "3.8.8"
    },
    "colab": {
      "name": "Copy of Churn modeling using ANN.ipynb",
      "provenance": [],
      "include_colab_link": true
    }
  },
  "nbformat": 4,
  "nbformat_minor": 5
}